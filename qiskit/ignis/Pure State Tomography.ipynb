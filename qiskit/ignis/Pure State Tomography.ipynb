{
 "cells": [
  {
   "cell_type": "markdown",
   "metadata": {},
   "source": [
    "# Pure State Tomography"
   ]
  },
  {
   "cell_type": "markdown",
   "metadata": {},
   "source": [
    "### Junling Long, Adrian Tan, Sven Jandura"
   ]
  },
  {
   "cell_type": "markdown",
   "metadata": {},
   "source": [
    "# Introduction"
   ]
  },
  {
   "cell_type": "markdown",
   "metadata": {},
   "source": [
    " Suppose we have some quantum circuit, which generates a state |psi>. We are interested in the coefficients of psi.\n",
    " Unfortunatly, due to noise effects, on a real quantum computer we can only generate rho = (1-epsilon)|psi><psi| + epsilon rho_error\n",
    " with epsilon << 1. How do we find a good estimate of |psi>\n",
    "\n",
    " Using usual quantum state tomography, we can could find rho and would estimate |psi> to be the eigenvector of rho which belongs to\n",
    " the larges eigenvalue. Using pure state tomography, we can find an estimate of |psi> directly from the measurements. This requires \n",
    " fewer operators to be measured then for a full state tomography for the same accuraccy.\n"
   ]
  },
  {
   "cell_type": "markdown",
   "metadata": {},
   "source": [
    "# Import"
   ]
  },
  {
   "cell_type": "code",
   "execution_count": 39,
   "metadata": {},
   "outputs": [],
   "source": [
    "import numpy as np\n",
    "\n",
    "import qiskit\n",
    "from qiskit import QuantumRegister, QuantumCircuit, ClassicalRegister, Aer\n",
    "from qiskit.quantum_info import state_fidelity\n",
    "from qiskit.providers.aer import noise\n",
    "import verification.tomography as tomo\n",
    "\n",
    "from qiskit import Aer, IBMQ, execute\n",
    "from qiskit.providers.aer import noise\n",
    "\n",
    "from verification.tomography.fitters.pure_state_mle_fit import pure_state_mle_fit, pure_state_mle_fit_density_matrix\n",
    "\n",
    "from scipy.linalg import sqrtm\n"
   ]
  },
  {
   "cell_type": "markdown",
   "metadata": {},
   "source": [
    "# Testing the protocol with near pure states for two qubits"
   ]
  },
  {
   "cell_type": "markdown",
   "metadata": {},
   "source": [
    "## 1. Generating test density matrix"
   ]
  },
  {
   "cell_type": "markdown",
   "metadata": {},
   "source": [
    "Consider the Bell states |psi1> = 1/sqrt(2)(|00>+|11>) and |psi2> = 1/sqrt(2)(|00>-|11>) and rho = (1-epsilon)|psi1><psi1| + epsilon|psi2><psi2|\n",
    "\n"
   ]
  },
  {
   "cell_type": "code",
   "execution_count": 40,
   "metadata": {},
   "outputs": [
    {
     "name": "stdout",
     "output_type": "stream",
     "text": [
      "|psi1> = [0.70710678+0.j 0.        +0.j 0.        +0.j 0.70710678+0.j]\n",
      "|psi2> = [0.+0.70710678j 0.+0.j         0.+0.j         0.-0.70710678j]\n"
     ]
    }
   ],
   "source": [
    "#Psi1\n",
    "# Setup circuit to generate |psi1>\n",
    "qr1 = QuantumRegister(2)\n",
    "bell1 = QuantumCircuit(qr1)\n",
    "bell1.h(qr1[0])\n",
    "bell1.cx(qr1[0], qr1[1])\n",
    "\n",
    "# get state |psi1> using statevector_simulator\n",
    "job = qiskit.execute(bell1, Aer.get_backend('statevector_simulator'))\n",
    "psi1 = job.result().get_statevector(bell1)\n",
    "print(\"|psi1> = {}\".format(psi1))\n",
    "\n",
    "# get expectation values of operators ... and convert the to the right format\n",
    "qst_bell1 = tomo.state_tomography_circuits(bell1, qr1)\n",
    "job = qiskit.execute(qst_bell1, Aer.get_backend('qasm_simulator'), shots=5000)\n",
    "tomo_counts_psi1 = tomo.tomography_data(job.result(), qst_bell1)\n",
    "probs_psi1, basis_matrix, _ = tomo.fitter_data(tomo_counts_psi1)\n",
    "\n",
    "#Psi 2\n",
    "# Setup circuit to generate |psi2>\n",
    "qr2 = QuantumRegister(2)\n",
    "bell2 = QuantumCircuit(qr2)\n",
    "bell2.y(qr2[0])\n",
    "bell2.h(qr2[0])\n",
    "bell2.cx(qr2[0], qr2[1])\n",
    "\n",
    "# get state |psi2> using statevector_simulator\n",
    "job = qiskit.execute(bell2, Aer.get_backend('statevector_simulator'))\n",
    "psi2 = job.result().get_statevector(bell2)\n",
    "print(\"|psi2> = {}\".format(psi2))\n",
    "\n",
    "\n",
    "# get expectation values of operators ... and convert the to the right format\n",
    "qst_bell2 = tomo.state_tomography_circuits(bell2, qr2)\n",
    "job = qiskit.execute(qst_bell2, Aer.get_backend('qasm_simulator'), shots=5000)\n",
    "tomo_counts_psi2 = tomo.tomography_data(job.result(), qst_bell2)\n",
    "probs_psi2, _ , _ = tomo.fitter_data(tomo_counts_psi2) # the basis_matrix is the same for both states\n"
   ]
  },
  {
   "cell_type": "markdown",
   "metadata": {},
   "source": [
    "Generate probabilities of rho"
   ]
  },
  {
   "cell_type": "code",
   "execution_count": 41,
   "metadata": {},
   "outputs": [],
   "source": [
    "epsilon = 0.3\n",
    "probs_rho = [(1-epsilon)*probs_psi1[i]+epsilon*probs_psi2[i] for i in range(len(probs_psi1))]"
   ]
  },
  {
   "cell_type": "markdown",
   "metadata": {},
   "source": [
    "function for calculating inner product between states\n"
   ]
  },
  {
   "cell_type": "code",
   "execution_count": 42,
   "metadata": {},
   "outputs": [],
   "source": [
    "def inner_product(psi, phi):\n",
    "    return np.abs(sum([psi[i].conj()*phi[i] for i in range(len(psi))]))**2"
   ]
  },
  {
   "cell_type": "markdown",
   "metadata": {},
   "source": [
    "## 2. Unconstrained state tomography (maximum likelyhood approach)\n"
   ]
  },
  {
   "cell_type": "code",
   "execution_count": 43,
   "metadata": {},
   "outputs": [
    {
     "name": "stdout",
     "output_type": "stream",
     "text": [
      "Eigenvalues of rho: [9.95527140e-01+1.78177672e-19j 4.47286010e-03+1.38448978e-17j\n",
      " 3.71209356e-18-2.76327455e-17j 2.62171652e-18+1.40808629e-17j]\n",
      "Guess for psi: [ 0.70782213+0.j         -0.41025506+0.21629985j  0.03305804+0.4414323j\n",
      "  0.30843415-0.0972833j ]\n",
      "Fidelity: 0.5211204350281934\n"
     ]
    }
   ],
   "source": [
    "rho_full_mle = tomo.state_mle_fit(probs_rho, basis_matrix)\n",
    "eigenvalues, eigenvectors = np.linalg.eig(rho_full_mle)\n",
    "print(\"Eigenvalues of rho: {}\".format(eigenvalues))\n",
    "print(\"Guess for psi: {}\".format(eigenvectors[0]))\n",
    "print(\"Fidelity: {}\".format(inner_product(psi1, eigenvectors[0])))"
   ]
  },
  {
   "cell_type": "markdown",
   "metadata": {},
   "source": [
    "## 3. Pure state tomography (maximum likelyhood approach)\n"
   ]
  },
  {
   "cell_type": "code",
   "execution_count": 12,
   "metadata": {},
   "outputs": [
    {
     "name": "stdout",
     "output_type": "stream",
     "text": [
      "n:  4\n",
      "Guess for psi: [(0.7065192289256829-0.000913718574473898j), (0.0005293206996994222-0.007033363698076963j), (-0.002787057982869528-0.005772105551600478j), (0.7076170399240566+0.004127445424225231j)]\n",
      "Fidelity: 0.9998958574582636\n"
     ]
    }
   ],
   "source": [
    "psi_guess,_ = pure_state_mle_fit(probs_rho, basis_matrix)\n",
    "print(\"Guess for psi: {}\".format(psi_guess))\n",
    "print(\"Fidelity: {}\".format(inner_product(psi1, psi_guess)))\n"
   ]
  },
  {
   "cell_type": "markdown",
   "metadata": {},
   "source": [
    "# Testing the protocol with standard noise model with two qubits"
   ]
  },
  {
   "cell_type": "markdown",
   "metadata": {},
   "source": [
    "## 1. Set up random circuit"
   ]
  },
  {
   "cell_type": "code",
   "execution_count": 13,
   "metadata": {},
   "outputs": [
    {
     "name": "stdout",
     "output_type": "stream",
     "text": [
      "psi: [ 0.92110659-0.03878696j  0.07763912+0.02760747j  0.20670353+0.28109052j\n",
      " -0.14659281-0.00636737j]\n"
     ]
    }
   ],
   "source": [
    "qr = QuantumRegister(2)\n",
    "circuit = QuantumCircuit(qr)\n",
    "params = np.random.rand(12)\n",
    "circuit.u3(params[0], params[1], params[2], qr[0])\n",
    "circuit.u3(params[3], params[4], params[5], qr[1])\n",
    "circuit.cx(qr[0], qr[1])\n",
    "circuit.u3(params[6], params[7], params[8], qr[0])\n",
    "circuit.u3(params[9], params[10], params[11], qr[1])\n",
    "\n",
    "\n",
    "job = qiskit.execute(circuit, Aer.get_backend('statevector_simulator'))\n",
    "psi = job.result().get_statevector(circuit)\n",
    "print(\"psi: {}\".format(psi))"
   ]
  },
  {
   "cell_type": "markdown",
   "metadata": {},
   "source": [
    "## 2. Apply standard noise"
   ]
  },
  {
   "cell_type": "code",
   "execution_count": 15,
   "metadata": {},
   "outputs": [
    {
     "name": "stderr",
     "output_type": "stream",
     "text": [
      "/Users/atanteck/anaconda3/lib/python3.7/site-packages/qiskit/providers/ibmq/ibmqprovider.py:251: UserWarning: Credentials are already in use.\n",
      "  warnings.warn('Credentials are already in use.')\n"
     ]
    }
   ],
   "source": [
    "#IBMQ.load_accounts()\n",
    "IBMQ.enable_account('a6140115a9d2692b8a711d0f31fdc92b7ae793865719445a78fc210220de52765da18d0eab774d245fbc9e5f40c94e99d9c536f9f1749acd7b902b3bd9931dd5')\n",
    "device = IBMQ.get_backend('ibmqx4')\n",
    "properties = device.properties()\n",
    "coupling_map = device.configuration().coupling_map\n",
    "\n",
    "gate_times = [\n",
    "    ('u1', None, 0), ('u2', None, 100), ('u3', None, 200),\n",
    "    ('cx', [1, 0], 678)]\n",
    "\n",
    "# Construct the noise model from backend properties\n",
    "# and custom gate times\n",
    "noise_model = noise.device.basic_device_noise_model(properties, gate_times=gate_times)\n",
    "\n",
    "\n",
    "# Get the basis gates for the noise model\n",
    "basis_gates = noise_model.basis_gates\n",
    "\n",
    "# Select the QasmSimulator from the Aer provider\n",
    "simulator = Aer.get_backend('qasm_simulator')\n"
   ]
  },
  {
   "cell_type": "markdown",
   "metadata": {},
   "source": [
    "## 3. Execute"
   ]
  },
  {
   "cell_type": "code",
   "execution_count": 17,
   "metadata": {},
   "outputs": [],
   "source": [
    "qst= tomo.state_tomography_circuits(circuit, qr)\n",
    "job = qiskit.execute(qst, Aer.get_backend('qasm_simulator'),noise_model=noise_model, coupling_map=coupling_map, basis_gates=basis_gates, shots=5000)\n",
    "tomo_counts = tomo.tomography_data(job.result(), qst)\n",
    "probs_psi, basis_matrix, _ = tomo.fitter_data(tomo_counts)"
   ]
  },
  {
   "cell_type": "markdown",
   "metadata": {},
   "source": [
    "## 4. Unconstrained state tomography using IBM (maximum likelyhood approach)\n"
   ]
  },
  {
   "cell_type": "code",
   "execution_count": 18,
   "metadata": {},
   "outputs": [
    {
     "name": "stdout",
     "output_type": "stream",
     "text": [
      "Eigenvalues of rho: [0.84447043+1.66921615e-18j 0.01255959+5.86184854e-18j\n",
      " 0.0780254 +1.05446329e-17j 0.06494459+1.00626069e-18j]\n",
      "Guess for psi: [ 0.91884604+0.j          0.08858412-0.07626315j -0.19775502+0.3140015j\n",
      " -0.05961891+0.02829029j]\n",
      "Fidelity: 0.8432986875465517\n"
     ]
    }
   ],
   "source": [
    "rho_full_mle = tomo.state_mle_fit(probs_psi, basis_matrix)\n",
    "eigenvalues, eigenvectors = np.linalg.eig(rho_full_mle)\n",
    "print(\"Eigenvalues of rho: {}\".format(eigenvalues))\n",
    "print(\"Guess for psi: {}\".format(eigenvectors[0]))\n",
    "print(\"Fidelity: {}\".format(inner_product(psi, eigenvectors[0])))"
   ]
  },
  {
   "cell_type": "markdown",
   "metadata": {},
   "source": [
    "## 5. Pure state tomography (maximum likelyhood approach)"
   ]
  },
  {
   "cell_type": "code",
   "execution_count": 19,
   "metadata": {},
   "outputs": [
    {
     "name": "stdout",
     "output_type": "stream",
     "text": [
      "n:  4\n",
      "Guess for psi: [(0.915327160486264+0.013787938310871389j), (0.09121478523797215+0.026805571036491404j), (0.19559670226572515+0.3036947360393523j), (-0.14955599251314677-0.009583778840100195j)]\n",
      "Fidelity: 0.9995048485605685\n"
     ]
    }
   ],
   "source": [
    "psi_guess,_ = pure_state_mle_fit(probs_psi, basis_matrix)\n",
    "print(\"Guess for psi: {}\".format(psi_guess))\n",
    "print(\"Fidelity: {}\".format(inner_product(psi, psi_guess)))"
   ]
  },
  {
   "cell_type": "markdown",
   "metadata": {},
   "source": [
    "# Testing the protocol with  pure states for three qubits using expectation values"
   ]
  },
  {
   "cell_type": "code",
   "execution_count": 31,
   "metadata": {},
   "outputs": [],
   "source": [
    "def get_expectation_values(tomo_counts,nbits, shots=5000):\n",
    "    #operators = ['II', 'IX', 'IY', 'IZ', 'XI', 'YX', 'YY', 'YZ', 'ZX', 'ZY', 'ZZ']\n",
    "    operators = ['IIX','IIY','IIZ','IXI','IXX','IXY','IYI','IYX','IYY','IZI','XIZ','XXX','XXY','XYX','XYY','XZX','XZY','YXX','YXY','YXZ','YYX','YYY','YYZ','YZI','ZII','ZXZ','ZYZ','ZZX','ZZY','ZZZ','III']\n",
    "    #operators = ['II', 'IX', 'IY', 'IZ', 'XI', 'XX', 'XY', 'XZ', 'YX', 'YY', 'YZ', 'ZX', 'ZY', 'ZZ']\n",
    "    #operators = ['XY']\n",
    "    probs = []\n",
    "    basis_matrix=[]\n",
    "    for s in operators:\n",
    "        #print(\"Tomo counts: \",tomo_counts)\n",
    "        prob, mat = tomo.compute_expectation(nbits, s, tomo_counts, shots)\n",
    "        #print(\"operator: {}\".format(s))\n",
    "        #print(\"exp: {}\".format(prob))\n",
    "        #print(\"mat: {}\".format(mat))\n",
    "        probs.append(prob)\n",
    "        basis_matrix.append(mat)\n",
    "    return probs, basis_matrix"
   ]
  },
  {
   "cell_type": "code",
   "execution_count": 32,
   "metadata": {},
   "outputs": [],
   "source": [
    "def inner_product(psi, phi):\n",
    "    return np.abs(sum([psi[i].conj()*phi[i] for i in range(len(psi))]))**2"
   ]
  },
  {
   "cell_type": "code",
   "execution_count": 33,
   "metadata": {},
   "outputs": [],
   "source": [
    "# Setup circuit to generate |psi1>\n",
    "nbits = 3\n",
    "qr1 = QuantumRegister(nbits)\n",
    "bell1 = QuantumCircuit(qr1)\n",
    "\n",
    "bell1.h(qr1[0])\n",
    "bell1.cx(qr1[0], qr1[1])\n",
    "bell1.cx(qr1[1], qr1[2])\n",
    "\n",
    "# get state |psi1> using statevector_simulator\n",
    "job = qiskit.execute(bell1, Aer.get_backend('statevector_simulator'))\n",
    "psi1 = job.result().get_statevector(bell1)\n",
    "\n",
    "# get expectation values of operators ... and convert the to the right format\n",
    "qst_bell1 = tomo.state_tomography_circuits(bell1, qr1)\n",
    "job = qiskit.execute(qst_bell1, Aer.get_backend('qasm_simulator'), shots=5000)\n",
    "tomo_counts_psi1 = tomo.tomography_data(job.result(), qst_bell1)\n",
    "#probs_psi1, basis_matrix, _ = tomo.fitter_data(tomo_counts_psi1)\n",
    "probs_psi1, basis_matrix = get_expectation_values(tomo_counts_psi1,nbits)\n",
    "\n",
    "\n",
    "#Psi 2\n",
    "# Setup circuit to generate |psi2>\n",
    "qr2 = QuantumRegister(nbits)\n",
    "bell2 = QuantumCircuit(qr2)\n",
    "bell2.h(qr2[0])\n",
    "bell2.cx(qr2[0], qr2[1])\n",
    "bell2.cx(qr2[1], qr2[2])\n",
    "# get state |psi2> using statevector_simulator\n",
    "job = qiskit.execute(bell2, Aer.get_backend('statevector_simulator'))\n",
    "psi2 = job.result().get_statevector(bell2)\n",
    "#print(\"|psi2> = {}\".format(psi2))\n",
    "\n",
    "\n",
    "# get expectation values of operators ... and convert the to the right format\n",
    "qst_bell2 = tomo.state_tomography_circuits(bell2, qr2)\n",
    "job = qiskit.execute(qst_bell2, Aer.get_backend('qasm_simulator'), shots=5000)\n",
    "tomo_counts_psi2 = tomo.tomography_data(job.result(), qst_bell2)\n",
    "#probs_psi2, _ , _ = tomo.fitter_data(tomo_counts_psi2) # the basis_matrix is the same for both states\n",
    "probs_psi2, basis_matrix = get_expectation_values(tomo_counts_psi2,nbits)\n",
    "\n",
    "# Generate probabilities of rho\n",
    "epsilon = 0.1\n",
    "probs_rho = [(1-epsilon)*probs_psi1[i]+epsilon*probs_psi2[i] for i in range(len(probs_psi1))]"
   ]
  },
  {
   "cell_type": "code",
   "execution_count": 34,
   "metadata": {},
   "outputs": [
    {
     "name": "stdout",
     "output_type": "stream",
     "text": [
      "=== IBM state tomography ===\n",
      "Fidelity: 0.2496073618282664\n",
      "=== Our own pure state tomography ===\n",
      "n:  8\n",
      "Fidelity: 0.999538614920965\n"
     ]
    }
   ],
   "source": [
    "# Full state tomography (maximum likelyhood approach)\n",
    "print(\"=== IBM state tomography ===\")\n",
    "rho_full_mle = tomo.state_mle_fit(probs_rho, basis_matrix)\n",
    "eigenvalues, eigenvectors = np.linalg.eig(rho_full_mle)\n",
    "#print(\"Eigenvalues of rho: {}\".format(eigenvalues))\n",
    "#print(\"Guess for psi: {}\".format(eigenvectors[0]))\n",
    "print(\"Fidelity: {}\".format(inner_product(psi1, eigenvectors[0])))\n",
    "\n",
    "\n",
    "# Pure state tomography (maximum likelyhood approach)\n",
    "print(\"=== Our own pure state tomography ===\")\n",
    "psi_guess,_ = pure_state_mle_fit(probs_rho, basis_matrix)\n",
    "#print(\"Guess for psi: {}\".format(psi_guess))\n",
    "print(\"Fidelity: {}\".format(inner_product(psi1, psi_guess)))"
   ]
  },
  {
   "cell_type": "code",
   "execution_count": 36,
   "metadata": {},
   "outputs": [
    {
     "name": "stdout",
     "output_type": "stream",
     "text": [
      "=== On Noisy simulator ===\n",
      "=== IBM tomography ===\n",
      "Fidelity: 0.22793576331197304\n",
      "=== Our own pure state tomography ===\n",
      "n:  8\n",
      "Fidelity: 0.9980454377317436\n"
     ]
    }
   ],
   "source": [
    "print(\"=== On Noisy simulator ===\")\n",
    "qr = QuantumRegister(nbits)\n",
    "circuit = QuantumCircuit(qr)\n",
    "\n",
    "circuit.h(qr[0])\n",
    "circuit.cx(qr[0], qr[1])\n",
    "circuit.cx(qr[1], qr[2])\n",
    "\n",
    "job = qiskit.execute(circuit, Aer.get_backend('statevector_simulator'))\n",
    "psi = job.result().get_statevector(circuit)\n",
    "\n",
    "IBMQ.enable_account('a6140115a9d2692b8a711d0f31fdc92b7ae793865719445a78fc210220de52765da18d0eab774d245fbc9e5f40c94e99d9c536f9f1749acd7b902b3bd9931dd5')\n",
    "device = IBMQ.get_backend('ibmqx4')\n",
    "properties = device.properties()\n",
    "coupling_map = device.configuration().coupling_map\n",
    "\n",
    "gate_times = [\n",
    "    ('u1', None, 0), ('u2', None, 100), ('u3', None, 200),\n",
    "    ('cx', [1, 0], 678)]\n",
    "\n",
    "# Construct the noise model from backend properties\n",
    "# and custom gate times\n",
    "noise_model = noise.device.basic_device_noise_model(properties, gate_times=gate_times)\n",
    "\n",
    "\n",
    "# Get the basis gates for the noise model\n",
    "basis_gates = noise_model.basis_gates\n",
    "\n",
    "# Select the QasmSimulator from the Aer provider\n",
    "simulator = Aer.get_backend('qasm_simulator')\n",
    "\n",
    "#print(noise_model)\n",
    "\n",
    "qst= tomo.state_tomography_circuits(circuit, qr)\n",
    "job = qiskit.execute(qst, Aer.get_backend('qasm_simulator'),noise_model=noise_model, coupling_map=coupling_map, basis_gates=basis_gates, shots=5000)\n",
    "tomo_counts = tomo.tomography_data(job.result(), qst)\n",
    "#probs_psi, basis_matrix, _ = tomo.fitter_data(tomo_counts)\n",
    "probs_psi, basis_matrix = get_expectation_values(tomo_counts,nbits)\n",
    "\n",
    "\n",
    "# Full state tomography (maximum likelyhood approach)\n",
    "print(\"=== IBM tomography ===\")\n",
    "rho_full_mle = tomo.state_mle_fit(probs_psi, basis_matrix)\n",
    "eigenvalues, eigenvectors = np.linalg.eig(rho_full_mle)\n",
    "#print(\"Eigenvalues of rho: {}\".format(eigenvalues))\n",
    "#print(\"Guess for psi: {}\".format(eigenvectors[0]))\n",
    "print(\"Fidelity: {}\".format(inner_product(psi, eigenvectors[0])))\n",
    "\n",
    "\n",
    "# Pure state tomography (maximum likelyhood approach)\n",
    "print(\"=== Our own pure state tomography ===\")\n",
    "psi_guess,_ = pure_state_mle_fit(probs_psi, basis_matrix)\n",
    "#print(\"Guess for psi: {}\".format(psi_guess))\n",
    "print(\"Fidelity: {}\".format(inner_product(psi, psi_guess)))"
   ]
  }
 ],
 "metadata": {
  "kernelspec": {
   "display_name": "Python 3",
   "language": "python",
   "name": "python3"
  },
  "language_info": {
   "codemirror_mode": {
    "name": "ipython",
    "version": 3
   },
   "file_extension": ".py",
   "mimetype": "text/x-python",
   "name": "python",
   "nbconvert_exporter": "python",
   "pygments_lexer": "ipython3",
   "version": "3.7.1"
  }
 },
 "nbformat": 4,
 "nbformat_minor": 2
}

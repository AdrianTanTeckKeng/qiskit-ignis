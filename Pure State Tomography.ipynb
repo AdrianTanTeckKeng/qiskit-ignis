{
 "cells": [
  {
   "cell_type": "markdown",
   "metadata": {},
   "source": [
    "# Pure State Tomography"
   ]
  },
  {
   "cell_type": "markdown",
   "metadata": {},
   "source": [
    "Junling Long, Adrian Tan, Sven Jandura"
   ]
  },
  {
   "cell_type": "markdown",
   "metadata": {},
   "source": [
    " Suppose we have some quantum circuit, which generates a state |psi>. We are interested in the coefficients of psi.\n",
    " Unfortunatly, due to noise effects, on a real quantum computer we can only generate rho = (1-epsilon)|psi><psi| + epsilon rho_error\n",
    " with epsilon << 1. How do we find a good estimate of |psi>\n",
    "\n",
    " Using usual quantum state tomography, we can could find rho and would estimate |psi> to be the eigenvector of rho which belongs to\n",
    " the larges eigenvalue. Using pure state tomography, we can find an estimate of |psi> directly from the measurements. This requires \n",
    " fewer operators to be measured then for a full state tomography for the same accuraccy.\n"
   ]
  },
  {
   "cell_type": "code",
   "execution_count": 5,
   "metadata": {},
   "outputs": [
    {
     "name": "stderr",
     "output_type": "stream",
     "text": [
      "/usr/lib/python3.7/site-packages/marshmallow/schema.py:364: ChangedInMarshmallow3Warning: strict=False is not recommended. In marshmallow 3.0, schemas will always be strict. See https://marshmallow.readthedocs.io/en/latest/upgrading.html#schemas-are-always-strict\n",
      "  ChangedInMarshmallow3Warning\n"
     ]
    }
   ],
   "source": [
    "import numpy as np\n",
    "\n",
    "import qiskit\n",
    "from qiskit import QuantumRegister, QuantumCircuit, ClassicalRegister, Aer\n",
    "from qiskit.quantum_info import state_fidelity\n",
    "from qiskit.providers.aer import noise\n",
    "import qiskit.ignis.verification.tomography as tomo\n",
    "\n",
    "from qiskit import Aer, IBMQ, execute\n",
    "from qiskit.providers.aer import noise\n",
    "\n",
    "from qiskit.ignis.verification.tomography.fitters.pure_state_mle_fit import pure_state_mle_fit, pure_state_mle_fit_density_matrix\n",
    "\n",
    "from scipy.linalg import sqrtm\n"
   ]
  },
  {
   "cell_type": "markdown",
   "metadata": {},
   "source": [
    "## Simple Density Matrix"
   ]
  },
  {
   "cell_type": "markdown",
   "metadata": {},
   "source": [
    "Consider the Bell states |psi1> = 1/sqrt(2)(|00>+|11>) and |psi2> = 1/sqrt(2)(|00>-|11>) and rho = (1-epsilon)|psi1><psi1| + epsilon|psi2><psi2|\n",
    "\n"
   ]
  },
  {
   "cell_type": "code",
   "execution_count": 6,
   "metadata": {},
   "outputs": [
    {
     "name": "stdout",
     "output_type": "stream",
     "text": [
      "|psi1> = [0.70710678+0.j 0.        +0.j 0.        +0.j 0.70710678+0.j]\n",
      "|psi2> = [0.+0.70710678j 0.+0.j         0.+0.j         0.-0.70710678j]\n"
     ]
    }
   ],
   "source": [
    "#Psi1\n",
    "# Setup circuit to generate |psi1>\n",
    "qr1 = QuantumRegister(2)\n",
    "bell1 = QuantumCircuit(qr1)\n",
    "bell1.h(qr1[0])\n",
    "bell1.cx(qr1[0], qr1[1])\n",
    "\n",
    "# get state |psi1> using statevector_simulator\n",
    "job = qiskit.execute(bell1, Aer.get_backend('statevector_simulator'))\n",
    "psi1 = job.result().get_statevector(bell1)\n",
    "print(\"|psi1> = {}\".format(psi1))\n",
    "\n",
    "# get expectation values of operators ... and convert the to the right format\n",
    "qst_bell1 = tomo.state_tomography_circuits(bell1, qr1)\n",
    "job = qiskit.execute(qst_bell1, Aer.get_backend('qasm_simulator'), shots=5000)\n",
    "tomo_counts_psi1 = tomo.tomography_data(job.result(), qst_bell1, efficient = True)\n",
    "probs_psi1, basis_matrix, _ = tomo.fitter_data(tomo_counts_psi1)\n",
    "\n",
    "#Psi 2\n",
    "# Setup circuit to generate |psi2>\n",
    "qr2 = QuantumRegister(2)\n",
    "bell2 = QuantumCircuit(qr2)\n",
    "bell2.y(qr2[0])\n",
    "bell2.h(qr2[0])\n",
    "bell2.cx(qr2[0], qr2[1])\n",
    "\n",
    "# get state |psi2> using statevector_simulator\n",
    "job = qiskit.execute(bell2, Aer.get_backend('statevector_simulator'))\n",
    "psi2 = job.result().get_statevector(bell2)\n",
    "print(\"|psi2> = {}\".format(psi2))\n",
    "\n",
    "\n",
    "# get expectation values of operators ... and convert the to the right format\n",
    "qst_bell2 = tomo.state_tomography_circuits(bell2, qr2)\n",
    "job = qiskit.execute(qst_bell2, Aer.get_backend('qasm_simulator'), shots=5000)\n",
    "tomo_counts_psi2 = tomo.tomography_data(job.result(), qst_bell2, efficient = True)\n",
    "probs_psi2, _ , _ = tomo.fitter_data(tomo_counts_psi2) # the basis_matrix is the same for both states\n"
   ]
  },
  {
   "cell_type": "markdown",
   "metadata": {},
   "source": [
    "Generate probabilities of rho"
   ]
  },
  {
   "cell_type": "code",
   "execution_count": 7,
   "metadata": {},
   "outputs": [],
   "source": [
    "epsilon = 0.3\n",
    "probs_rho = [(1-epsilon)*probs_psi1[i]+epsilon*probs_psi2[i] for i in range(len(probs_psi1))]"
   ]
  },
  {
   "cell_type": "markdown",
   "metadata": {},
   "source": [
    "function for calculating inner product between states\n"
   ]
  },
  {
   "cell_type": "code",
   "execution_count": 8,
   "metadata": {},
   "outputs": [],
   "source": [
    "def inner_product(psi, phi):\n",
    "    return np.abs(sum([psi[i].conj()*phi[i] for i in range(len(psi))]))**2"
   ]
  },
  {
   "cell_type": "markdown",
   "metadata": {},
   "source": [
    "Full state tomography (maximum likelyhood approach)\n"
   ]
  },
  {
   "cell_type": "code",
   "execution_count": 9,
   "metadata": {},
   "outputs": [
    {
     "name": "stdout",
     "output_type": "stream",
     "text": [
      "Eigenvalues of rho: [ 5.66699285e-01+2.88739156e-18j  3.66648747e-01+1.26582635e-18j\n",
      " -4.16493426e-18+3.99787554e-20j  6.66519672e-02+1.66149507e-18j]\n",
      "Guess for psi: [ 0.70928483+0.j         -0.7047712 -0.01153259j  0.00198461+0.00727256j\n",
      " -0.00330089+0.00344293j]\n",
      "Fidelity: 0.2492125898935742\n"
     ]
    }
   ],
   "source": [
    "rho_full_mle = tomo.state_mle_fit(probs_rho, basis_matrix)\n",
    "eigenvalues, eigenvectors = np.linalg.eig(rho_full_mle)\n",
    "print(\"Eigenvalues of rho: {}\".format(eigenvalues))\n",
    "print(\"Guess for psi: {}\".format(eigenvectors[0]))\n",
    "print(\"Fidelity: {}\".format(inner_product(psi1, eigenvectors[0])))"
   ]
  },
  {
   "cell_type": "markdown",
   "metadata": {},
   "source": [
    "Pure state tomography (maximum likelyhood approach)\n"
   ]
  },
  {
   "cell_type": "code",
   "execution_count": 10,
   "metadata": {},
   "outputs": [
    {
     "name": "stdout",
     "output_type": "stream",
     "text": [
      "Guess for psi: [(0.707325922748363-0.0002991421570430552j), (-0.0007223700961176263+0.004682163712799221j), (-0.002903498638227325+0.005640840724021371j), (0.7067418140029688-0.011969293961411297j)]\n",
      "Fidelity: 0.9998690393229133\n"
     ]
    }
   ],
   "source": [
    "psi_guess,_ = pure_state_mle_fit(probs_rho, basis_matrix)\n",
    "print(\"Guess for psi: {}\".format(psi_guess))\n",
    "print(\"Fidelity: {}\".format(inner_product(psi1, psi_guess)))\n"
   ]
  },
  {
   "cell_type": "markdown",
   "metadata": {},
   "source": [
    "## Running on a noise simulator quantum computer"
   ]
  },
  {
   "cell_type": "markdown",
   "metadata": {},
   "source": [
    "Setup random circuit"
   ]
  },
  {
   "cell_type": "code",
   "execution_count": 11,
   "metadata": {},
   "outputs": [
    {
     "name": "stdout",
     "output_type": "stream",
     "text": [
      "psi: [ 0.96330278-0.00345187j  0.1343249 +0.04397251j  0.19890271+0.02646879j\n",
      " -0.07215715+0.08117591j]\n"
     ]
    }
   ],
   "source": [
    "qr = QuantumRegister(2)\n",
    "circuit = QuantumCircuit(qr)\n",
    "params = np.random.rand(12)\n",
    "circuit.u3(params[0], params[1], params[2], qr[0])\n",
    "circuit.u3(params[3], params[4], params[5], qr[1])\n",
    "circuit.cx(qr[0], qr[1])\n",
    "circuit.u3(params[6], params[7], params[8], qr[0])\n",
    "circuit.u3(params[9], params[10], params[11], qr[1])\n",
    "\n",
    "\n",
    "job = qiskit.execute(circuit, Aer.get_backend('statevector_simulator'))\n",
    "psi = job.result().get_statevector(circuit)\n",
    "print(\"psi: {}\".format(psi))"
   ]
  },
  {
   "cell_type": "markdown",
   "metadata": {},
   "source": [
    "Setup Noise model"
   ]
  },
  {
   "cell_type": "code",
   "execution_count": 12,
   "metadata": {},
   "outputs": [],
   "source": [
    "#IBMQ.load_accounts()\n",
    "IBMQ.enable_account('a6140115a9d2692b8a711d0f31fdc92b7ae793865719445a78fc210220de52765da18d0eab774d245fbc9e5f40c94e99d9c536f9f1749acd7b902b3bd9931dd5')\n",
    "device = IBMQ.get_backend('ibmqx4')\n",
    "properties = device.properties()\n",
    "coupling_map = device.configuration().coupling_map\n",
    "\n",
    "gate_times = [\n",
    "    ('u1', None, 0), ('u2', None, 100), ('u3', None, 200),\n",
    "    ('cx', [1, 0], 678)]\n",
    "\n",
    "# Construct the noise model from backend properties\n",
    "# and custom gate times\n",
    "noise_model = noise.device.basic_device_noise_model(properties, gate_times=gate_times)\n",
    "\n",
    "\n",
    "# Get the basis gates for the noise model\n",
    "basis_gates = noise_model.basis_gates\n",
    "\n",
    "# Select the QasmSimulator from the Aer provider\n",
    "simulator = Aer.get_backend('qasm_simulator')\n"
   ]
  },
  {
   "cell_type": "markdown",
   "metadata": {},
   "source": [
    "Execute"
   ]
  },
  {
   "cell_type": "code",
   "execution_count": 13,
   "metadata": {},
   "outputs": [],
   "source": [
    "qst= tomo.state_tomography_circuits(circuit, qr)\n",
    "job = qiskit.execute(qst, Aer.get_backend('qasm_simulator'),noise_model=noise_model, coupling_map=coupling_map, basis_gates=basis_gates, shots=5000)\n",
    "tomo_counts = tomo.tomography_data(job.result(), qst, efficient = True)\n",
    "probs_psi, basis_matrix, _ = tomo.fitter_data(tomo_counts)"
   ]
  },
  {
   "cell_type": "markdown",
   "metadata": {},
   "source": [
    "Full state tomography (maximum likelyhood approach)"
   ]
  },
  {
   "cell_type": "code",
   "execution_count": 14,
   "metadata": {},
   "outputs": [
    {
     "name": "stdout",
     "output_type": "stream",
     "text": [
      "Eigenvalues of rho: [0.61503424+2.33335725e-18j 0.27906543+3.59350947e-18j\n",
      " 0.06576326+1.04517168e-17j 0.04013707+1.13769921e-17j]\n",
      "Guess for psi: [ 0.97271824+0.j         -0.22019051+0.03628985j  0.0041302 +0.05362442j\n",
      "  0.02048342+0.02657468j]\n",
      "Fidelity: 0.8322923439481025\n"
     ]
    }
   ],
   "source": [
    "rho_full_mle = tomo.state_mle_fit(probs_psi, basis_matrix)\n",
    "eigenvalues, eigenvectors = np.linalg.eig(rho_full_mle)\n",
    "print(\"Eigenvalues of rho: {}\".format(eigenvalues))\n",
    "print(\"Guess for psi: {}\".format(eigenvectors[0]))\n",
    "print(\"Fidelity: {}\".format(inner_product(psi, eigenvectors[0])))"
   ]
  },
  {
   "cell_type": "markdown",
   "metadata": {},
   "source": [
    "Pure state tomography (maximum likelyhood approach)"
   ]
  },
  {
   "cell_type": "code",
   "execution_count": 15,
   "metadata": {},
   "outputs": [
    {
     "name": "stdout",
     "output_type": "stream",
     "text": [
      "Guess for psi: [(0.9249576204453344+0.03477278030303103j), (-0.29740943318417273+0.0333625183250024j), (0.18466812869883759+0.042615969519614806j), (-0.11911770651022562+0.05976084784122051j)]\n",
      "Fidelity: 0.8206981208924022\n"
     ]
    }
   ],
   "source": [
    "psi_guess,_ = pure_state_mle_fit(probs_psi, basis_matrix)\n",
    "print(\"Guess for psi: {}\".format(psi_guess))\n",
    "print(\"Fidelity: {}\".format(inner_product(psi, psi_guess)))"
   ]
  },
  {
   "cell_type": "code",
   "execution_count": null,
   "metadata": {},
   "outputs": [],
   "source": []
  },
  {
   "cell_type": "code",
   "execution_count": null,
   "metadata": {},
   "outputs": [],
   "source": []
  }
 ],
 "metadata": {
  "kernelspec": {
   "display_name": "Python 3",
   "language": "python",
   "name": "python3"
  },
  "language_info": {
   "codemirror_mode": {
    "name": "ipython",
    "version": 3
   },
   "file_extension": ".py",
   "mimetype": "text/x-python",
   "name": "python",
   "nbconvert_exporter": "python",
   "pygments_lexer": "ipython3",
   "version": "3.7.1"
  }
 },
 "nbformat": 4,
 "nbformat_minor": 2
}

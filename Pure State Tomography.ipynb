{
 "cells": [
  {
   "cell_type": "markdown",
   "metadata": {},
   "source": [
    "# Pure State Tomography"
   ]
  },
  {
   "cell_type": "markdown",
   "metadata": {},
   "source": [
    "### Junling Long, Adrian Tan, Sven Jandura"
   ]
  },
  {
   "cell_type": "markdown",
   "metadata": {},
   "source": [
    "# Introduction"
   ]
  },
  {
   "cell_type": "markdown",
   "metadata": {},
   "source": [
    " Suppose we have some quantum circuit, which generates a state |psi>. We are interested in the coefficients of psi.\n",
    " Unfortunatly, due to noise effects, on a real quantum computer we can only generate rho = (1-epsilon)|psi><psi| + epsilon rho_error\n",
    " with epsilon << 1. How do we find a good estimate of |psi>\n",
    "\n",
    " Using usual quantum state tomography, we can could find rho and would estimate |psi> to be the eigenvector of rho which belongs to\n",
    " the larges eigenvalue. Using pure state tomography, we can find an estimate of |psi> directly from the measurements. This requires \n",
    " fewer operators to be measured then for a full state tomography for the same accuraccy.\n"
   ]
  },
  {
   "cell_type": "markdown",
   "metadata": {},
   "source": [
    "# Import"
   ]
  },
  {
   "cell_type": "code",
   "execution_count": 1,
   "metadata": {},
   "outputs": [
    {
     "name": "stderr",
     "output_type": "stream",
     "text": [
      "/usr/lib/python3.7/site-packages/marshmallow/schema.py:364: ChangedInMarshmallow3Warning: strict=False is not recommended. In marshmallow 3.0, schemas will always be strict. See https://marshmallow.readthedocs.io/en/latest/upgrading.html#schemas-are-always-strict\n",
      "  ChangedInMarshmallow3Warning\n"
     ]
    }
   ],
   "source": [
    "import numpy as np\n",
    "\n",
    "import qiskit\n",
    "from qiskit import QuantumRegister, QuantumCircuit, ClassicalRegister, Aer\n",
    "from qiskit.quantum_info import state_fidelity\n",
    "from qiskit.providers.aer import noise\n",
    "import qiskit.ignis.verification.tomography as tomo\n",
    "\n",
    "from qiskit import Aer, IBMQ, execute\n",
    "from qiskit.providers.aer import noise\n",
    "\n",
    "from qiskit.ignis.verification.tomography.fitters.pure_state_mle_fit import pure_state_mle_fit, pure_state_mle_fit_density_matrix\n",
    "\n",
    "from scipy.linalg import sqrtm\n"
   ]
  },
  {
   "cell_type": "markdown",
   "metadata": {},
   "source": [
    "# Testing the protocol with simplified noise model"
   ]
  },
  {
   "cell_type": "markdown",
   "metadata": {},
   "source": [
    "## 1. Generating test density matrix"
   ]
  },
  {
   "cell_type": "markdown",
   "metadata": {},
   "source": [
    "Consider the Bell states |psi1> = 1/sqrt(2)(|00>+|11>) and |psi2> = 1/sqrt(2)(|00>-|11>) and rho = (1-epsilon)|psi1><psi1| + epsilon|psi2><psi2|\n",
    "\n"
   ]
  },
  {
   "cell_type": "code",
   "execution_count": 2,
   "metadata": {},
   "outputs": [
    {
     "name": "stdout",
     "output_type": "stream",
     "text": [
      "|psi1> = [0.70710678+0.j 0.        +0.j 0.        +0.j 0.70710678+0.j]\n",
      "|psi2> = [0.+0.70710678j 0.+0.j         0.+0.j         0.-0.70710678j]\n"
     ]
    }
   ],
   "source": [
    "#Psi1\n",
    "# Setup circuit to generate |psi1>\n",
    "qr1 = QuantumRegister(2)\n",
    "bell1 = QuantumCircuit(qr1)\n",
    "bell1.h(qr1[0])\n",
    "bell1.cx(qr1[0], qr1[1])\n",
    "\n",
    "# get state |psi1> using statevector_simulator\n",
    "job = qiskit.execute(bell1, Aer.get_backend('statevector_simulator'))\n",
    "psi1 = job.result().get_statevector(bell1)\n",
    "print(\"|psi1> = {}\".format(psi1))\n",
    "\n",
    "# get expectation values of operators ... and convert the to the right format\n",
    "qst_bell1 = tomo.state_tomography_circuits(bell1, qr1)\n",
    "job = qiskit.execute(qst_bell1, Aer.get_backend('qasm_simulator'), shots=5000)\n",
    "tomo_counts_psi1 = tomo.tomography_data(job.result(), qst_bell1, efficient = True)\n",
    "probs_psi1, basis_matrix, _ = tomo.fitter_data(tomo_counts_psi1)\n",
    "\n",
    "#Psi 2\n",
    "# Setup circuit to generate |psi2>\n",
    "qr2 = QuantumRegister(2)\n",
    "bell2 = QuantumCircuit(qr2)\n",
    "bell2.y(qr2[0])\n",
    "bell2.h(qr2[0])\n",
    "bell2.cx(qr2[0], qr2[1])\n",
    "\n",
    "# get state |psi2> using statevector_simulator\n",
    "job = qiskit.execute(bell2, Aer.get_backend('statevector_simulator'))\n",
    "psi2 = job.result().get_statevector(bell2)\n",
    "print(\"|psi2> = {}\".format(psi2))\n",
    "\n",
    "\n",
    "# get expectation values of operators ... and convert the to the right format\n",
    "qst_bell2 = tomo.state_tomography_circuits(bell2, qr2)\n",
    "job = qiskit.execute(qst_bell2, Aer.get_backend('qasm_simulator'), shots=5000)\n",
    "tomo_counts_psi2 = tomo.tomography_data(job.result(), qst_bell2, efficient = True)\n",
    "probs_psi2, _ , _ = tomo.fitter_data(tomo_counts_psi2) # the basis_matrix is the same for both states\n"
   ]
  },
  {
   "cell_type": "markdown",
   "metadata": {},
   "source": [
    "Generate probabilities of rho"
   ]
  },
  {
   "cell_type": "code",
   "execution_count": 3,
   "metadata": {},
   "outputs": [],
   "source": [
    "epsilon = 0.3\n",
    "probs_rho = [(1-epsilon)*probs_psi1[i]+epsilon*probs_psi2[i] for i in range(len(probs_psi1))]"
   ]
  },
  {
   "cell_type": "markdown",
   "metadata": {},
   "source": [
    "function for calculating inner product between states\n"
   ]
  },
  {
   "cell_type": "code",
   "execution_count": 4,
   "metadata": {},
   "outputs": [],
   "source": [
    "def inner_product(psi, phi):\n",
    "    return np.abs(sum([psi[i].conj()*phi[i] for i in range(len(psi))]))**2"
   ]
  },
  {
   "cell_type": "markdown",
   "metadata": {},
   "source": [
    "## 2. Unconstrained state tomography (maximum likelyhood approach)\n"
   ]
  },
  {
   "cell_type": "code",
   "execution_count": 5,
   "metadata": {},
   "outputs": [
    {
     "name": "stdout",
     "output_type": "stream",
     "text": [
      "Eigenvalues of rho: [ 5.66746117e-01+8.33213245e-19j  3.66602386e-01+5.23432526e-19j\n",
      " -1.48442426e-18+7.00058918e-19j  6.66514964e-02-1.18934295e-18j]\n",
      "Guess for psi: [ 6.93738235e-01-0.00330093j  7.20200176e-01+0.j\n",
      "  8.55996862e-04-0.00423786j -7.05250544e-04-0.00298034j]\n",
      "Fidelity: 0.24016708574183632\n"
     ]
    }
   ],
   "source": [
    "rho_full_mle = tomo.state_mle_fit(probs_rho, basis_matrix)\n",
    "eigenvalues, eigenvectors = np.linalg.eig(rho_full_mle)\n",
    "print(\"Eigenvalues of rho: {}\".format(eigenvalues))\n",
    "print(\"Guess for psi: {}\".format(eigenvectors[0]))\n",
    "print(\"Fidelity: {}\".format(inner_product(psi1, eigenvectors[0])))"
   ]
  },
  {
   "cell_type": "markdown",
   "metadata": {},
   "source": [
    "## 3. Pure state tomography (maximum likelyhood approach)\n"
   ]
  },
  {
   "cell_type": "code",
   "execution_count": 6,
   "metadata": {},
   "outputs": [
    {
     "name": "stdout",
     "output_type": "stream",
     "text": [
      "Guess for psi: [(0.7041157488576673+0.0005531184141830959j), (0.004316117488619866-0.003419005310224335j), (0.0003417032354682942-0.0025189438227530576j), (0.7100483171842213+0.0039132119686459315j)]\n",
      "Fidelity: 0.9999399768956078\n"
     ]
    }
   ],
   "source": [
    "psi_guess,_ = pure_state_mle_fit(probs_rho, basis_matrix)\n",
    "print(\"Guess for psi: {}\".format(psi_guess))\n",
    "print(\"Fidelity: {}\".format(inner_product(psi1, psi_guess)))\n"
   ]
  },
  {
   "cell_type": "markdown",
   "metadata": {},
   "source": [
    "# Testing the protocol with standard noise model"
   ]
  },
  {
   "cell_type": "markdown",
   "metadata": {},
   "source": [
    "## 1. Set up random circuit"
   ]
  },
  {
   "cell_type": "code",
   "execution_count": 7,
   "metadata": {},
   "outputs": [
    {
     "name": "stdout",
     "output_type": "stream",
     "text": [
      "psi: [0.83832559+0.00067694j 0.38198031-0.00400993j 0.10831549+0.00098786j\n",
      " 0.1381847 +0.34706842j]\n"
     ]
    }
   ],
   "source": [
    "qr = QuantumRegister(2)\n",
    "circuit = QuantumCircuit(qr)\n",
    "params = np.random.rand(12)\n",
    "circuit.u3(params[0], params[1], params[2], qr[0])\n",
    "circuit.u3(params[3], params[4], params[5], qr[1])\n",
    "circuit.cx(qr[0], qr[1])\n",
    "circuit.u3(params[6], params[7], params[8], qr[0])\n",
    "circuit.u3(params[9], params[10], params[11], qr[1])\n",
    "\n",
    "\n",
    "job = qiskit.execute(circuit, Aer.get_backend('statevector_simulator'))\n",
    "psi = job.result().get_statevector(circuit)\n",
    "print(\"psi: {}\".format(psi))"
   ]
  },
  {
   "cell_type": "markdown",
   "metadata": {},
   "source": [
    "## 2. Apply standard noise"
   ]
  },
  {
   "cell_type": "code",
   "execution_count": 8,
   "metadata": {},
   "outputs": [],
   "source": [
    "#IBMQ.load_accounts()\n",
    "IBMQ.enable_account('a6140115a9d2692b8a711d0f31fdc92b7ae793865719445a78fc210220de52765da18d0eab774d245fbc9e5f40c94e99d9c536f9f1749acd7b902b3bd9931dd5')\n",
    "device = IBMQ.get_backend('ibmqx4')\n",
    "properties = device.properties()\n",
    "coupling_map = device.configuration().coupling_map\n",
    "\n",
    "gate_times = [\n",
    "    ('u1', None, 0), ('u2', None, 100), ('u3', None, 200),\n",
    "    ('cx', [1, 0], 678)]\n",
    "\n",
    "# Construct the noise model from backend properties\n",
    "# and custom gate times\n",
    "noise_model = noise.device.basic_device_noise_model(properties, gate_times=gate_times)\n",
    "\n",
    "\n",
    "# Get the basis gates for the noise model\n",
    "basis_gates = noise_model.basis_gates\n",
    "\n",
    "# Select the QasmSimulator from the Aer provider\n",
    "simulator = Aer.get_backend('qasm_simulator')\n"
   ]
  },
  {
   "cell_type": "markdown",
   "metadata": {},
   "source": [
    "## 3. Execute"
   ]
  },
  {
   "cell_type": "code",
   "execution_count": 9,
   "metadata": {},
   "outputs": [],
   "source": [
    "qst= tomo.state_tomography_circuits(circuit, qr)\n",
    "job = qiskit.execute(qst, Aer.get_backend('qasm_simulator'),noise_model=noise_model, coupling_map=coupling_map, basis_gates=basis_gates, shots=5000)\n",
    "tomo_counts = tomo.tomography_data(job.result(), qst, efficient = True)\n",
    "probs_psi, basis_matrix, _ = tomo.fitter_data(tomo_counts)"
   ]
  },
  {
   "cell_type": "markdown",
   "metadata": {},
   "source": [
    "## 4. Unconstrained state tomography (maximum likelyhood approach)\n"
   ]
  },
  {
   "cell_type": "code",
   "execution_count": 10,
   "metadata": {},
   "outputs": [
    {
     "name": "stdout",
     "output_type": "stream",
     "text": [
      "Eigenvalues of rho: [0.4791974 +1.92839891e-18j 0.09497703-3.53426719e-19j\n",
      " 0.25105974-5.39893583e-19j 0.17476583-2.87906542e-17j]\n",
      "Guess for psi: [ 0.96053798+0.j         -0.01619195+0.07615421j -0.07929213+0.22442906j\n",
      " -0.07235255+0.09702896j]\n",
      "Fidelity: 0.671032396552017\n"
     ]
    }
   ],
   "source": [
    "rho_full_mle = tomo.state_mle_fit(probs_psi, basis_matrix)\n",
    "eigenvalues, eigenvectors = np.linalg.eig(rho_full_mle)\n",
    "print(\"Eigenvalues of rho: {}\".format(eigenvalues))\n",
    "print(\"Guess for psi: {}\".format(eigenvectors[0]))\n",
    "print(\"Fidelity: {}\".format(inner_product(psi, eigenvectors[0])))"
   ]
  },
  {
   "cell_type": "markdown",
   "metadata": {},
   "source": [
    "## 5. Pure state tomography (maximum likelyhood approach)"
   ]
  },
  {
   "cell_type": "code",
   "execution_count": 11,
   "metadata": {},
   "outputs": [
    {
     "name": "stdout",
     "output_type": "stream",
     "text": [
      "Guess for psi: [(0.8092028547683698-0.039007297651932574j), (0.44953552968474525-0.013402981540578993j), (0.12746041881919218-0.0022139396218459817j), (0.14087664601057778+0.3245150981327211j)]\n",
      "Fidelity: 0.9937278224214127\n"
     ]
    }
   ],
   "source": [
    "psi_guess,_ = pure_state_mle_fit(probs_psi, basis_matrix)\n",
    "print(\"Guess for psi: {}\".format(psi_guess))\n",
    "print(\"Fidelity: {}\".format(inner_product(psi, psi_guess)))"
   ]
  },
  {
   "cell_type": "code",
   "execution_count": null,
   "metadata": {},
   "outputs": [],
   "source": []
  }
 ],
 "metadata": {
  "kernelspec": {
   "display_name": "Python 3",
   "language": "python",
   "name": "python3"
  },
  "language_info": {
   "codemirror_mode": {
    "name": "ipython",
    "version": 3
   },
   "file_extension": ".py",
   "mimetype": "text/x-python",
   "name": "python",
   "nbconvert_exporter": "python",
   "pygments_lexer": "ipython3",
   "version": "3.7.1"
  }
 },
 "nbformat": 4,
 "nbformat_minor": 2
}
